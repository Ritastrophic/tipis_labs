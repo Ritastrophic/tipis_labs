{
  "nbformat": 4,
  "nbformat_minor": 0,
  "metadata": {
    "colab": {
      "provenance": [],
      "authorship_tag": "ABX9TyN4dXf/GMQ16F2Gf38tkZIf",
      "include_colab_link": true
    },
    "kernelspec": {
      "name": "python3",
      "display_name": "Python 3"
    },
    "language_info": {
      "name": "python"
    }
  },
  "cells": [
    {
      "cell_type": "markdown",
      "metadata": {
        "id": "view-in-github",
        "colab_type": "text"
      },
      "source": [
        "<a href=\"https://colab.research.google.com/github/Ritastrophic/tipis_labs/blob/main/Labba1.ipynb\" target=\"_parent\"><img src=\"https://colab.research.google.com/assets/colab-badge.svg\" alt=\"Open In Colab\"/></a>"
      ]
    },
    {
      "cell_type": "markdown",
      "source": [
        "**Задача 2.1** Использование map(): Напишите программу, которая использует функцию map() для возведения каждой цифры в списке чисел в квадрат. (2 балла)"
      ],
      "metadata": {
        "id": "ne8Ezsotrrgz"
      }
    },
    {
      "cell_type": "code",
      "source": [
        "numbers = [1, 2, 3, 4, 5]\n",
        "squared_numbers = list(map(lambda x: x**2, numbers))\n",
        "print(squared_numbers)"
      ],
      "metadata": {
        "colab": {
          "base_uri": "https://localhost:8080/"
        },
        "id": "VZWsr8elr-rP",
        "outputId": "e2e6feab-35ae-415d-9b47-aa0797ec99ca"
      },
      "execution_count": 4,
      "outputs": [
        {
          "output_type": "stream",
          "name": "stdout",
          "text": [
            "[1, 4, 9, 16, 25]\n"
          ]
        }
      ]
    },
    {
      "cell_type": "markdown",
      "source": [
        "**Задача 2.4** Файлы CSV: Напишите программу, которая создает файл CSV с 5\n",
        "строками, где каждая строка содержит имя и возраст, а затем считывает этот\n",
        "файл и выводит содержимое на экран. (2 балла)"
      ],
      "metadata": {
        "id": "i5-zRZX5r8Z2"
      }
    },
    {
      "cell_type": "code",
      "source": [
        "import csv\n",
        "data = [\n",
        "    ['Имя', 'Возраст'],\n",
        "    ['Алексей', 20],\n",
        "    ['Мария', 30],\n",
        "    ['Иван', 22],\n",
        "    ['Светлана', 19],\n",
        "    ['Дмитрий', 27]\n",
        "]\n",
        "\n",
        "with open('people.csv','w') as file:\n",
        "    writer = csv.writer(file)\n",
        "    writer.writerows(data)\n",
        "\n",
        "print(\"Файл 'people.csv' успешно создан.\")\n",
        "\n",
        "with open('people.csv','r') as file:\n",
        "    reader = csv.reader(file)\n",
        "    next(reader)\n",
        "    for row in reader:\n",
        "        print(row)\n"
      ],
      "metadata": {
        "colab": {
          "base_uri": "https://localhost:8080/"
        },
        "id": "XeQcAJ9Yr79l",
        "outputId": "7c80cbe3-9148-40d8-8182-7e730a0d9bbb"
      },
      "execution_count": 7,
      "outputs": [
        {
          "output_type": "stream",
          "name": "stdout",
          "text": [
            "Файл 'people.csv' успешно создан.\n",
            "['Алексей', '20']\n",
            "['Мария', '30']\n",
            "['Иван', '22']\n",
            "['Светлана', '19']\n",
            "['Дмитрий', '27']\n"
          ]
        }
      ]
    },
    {
      "cell_type": "markdown",
      "source": [
        "**Задача 2.7** Извлечение данных из HTML: Напишите программу, использующую\n",
        "библиотеку BeautifulSoup, для извлечения заголовков (тегов h1) с конкретной веб-страницы. (2 балла)"
      ],
      "metadata": {
        "id": "LL-buchhsUaV"
      }
    },
    {
      "cell_type": "code",
      "source": [
        "import requests\n",
        "from bs4 import BeautifulSoup\n",
        "\n",
        "url = 'https://korshop.ru/'\n",
        "response = requests.get(url)\n",
        "if response.status_code == 200:\n",
        "    soup = BeautifulSoup(response.content, 'html.parser')\n",
        "    h1_tags = soup.find_all('h1')\n",
        "    for h1 in h1_tags:\n",
        "        print(h1.get_text(strip=True))\n",
        "else:\n",
        "    print(f\"Не удалось получить страницу. Статус-код: {response.status_code}\")"
      ],
      "metadata": {
        "colab": {
          "base_uri": "https://localhost:8080/"
        },
        "id": "_P-AExbmuHz1",
        "outputId": "4e9b68f1-a835-403b-d970-09ab6a6f50e6"
      },
      "execution_count": 25,
      "outputs": [
        {
          "output_type": "stream",
          "name": "stdout",
          "text": [
            "Интернет-магазин корейских продуктов Коршоп.ру\n"
          ]
        }
      ]
    },
    {
      "cell_type": "markdown",
      "source": [
        "**Задача 2.8** Декораторы: Напишите декоратор, который считает, сколько раз была вызвана функция. (2 балла)"
      ],
      "metadata": {
        "id": "X7RJcE-YuIWL"
      }
    },
    {
      "cell_type": "code",
      "source": [
        "def count_calls(func):\n",
        "    def wrapper(*args, **kwargs):\n",
        "        wrapper.call_count += 1\n",
        "        print(f\"'{wrapper.call_count}-й вызов функции {func.__name__}'\")\n",
        "        return func(*args, **kwargs)\n",
        "    wrapper.call_count = 0\n",
        "    return wrapper\n",
        "\n",
        "@count_calls\n",
        "def my_function():\n",
        "    print(\"что-то произошло\")\n",
        "\n",
        "my_function()\n",
        "my_function()\n",
        "my_function()"
      ],
      "metadata": {
        "colab": {
          "base_uri": "https://localhost:8080/"
        },
        "id": "GNAPacpkuLrM",
        "outputId": "598afe49-2b2c-497c-893c-81357b5438a8"
      },
      "execution_count": 19,
      "outputs": [
        {
          "output_type": "stream",
          "name": "stdout",
          "text": [
            "'1-й вызов функции my_function'\n",
            "что-то произошло\n",
            "'2-й вызов функции my_function'\n",
            "что-то произошло\n",
            "'3-й вызов функции my_function'\n",
            "что-то произошло\n"
          ]
        }
      ]
    },
    {
      "cell_type": "markdown",
      "source": [
        "**Задача 2.9** Потоки: Напишите программу, использующую многопоточность, которая считает сумму чисел от 1 до 100 с помощью двух потоков.(2 балла)"
      ],
      "metadata": {
        "id": "cKty98mQuL_W"
      }
    },
    {
      "cell_type": "code",
      "source": [
        "import threading\n",
        "\n",
        "def calc_sum(start, end, result, index):\n",
        "    total = sum(range(start, end + 1))\n",
        "    result[index] = total\n",
        "\n",
        "result = [0, 0]\n",
        "\n",
        "thread1 = threading.Thread(target=calc_sum, args=(1, 50, result, 0))\n",
        "thread2 = threading.Thread(target=calc_sum, args=(51, 100, result, 1))\n",
        "\n",
        "thread1.start()\n",
        "thread2.start()\n",
        "\n",
        "thread1.join()\n",
        "thread2.join()\n",
        "\n",
        "hundred_sum = result[0] + result[1]\n",
        "print(f\"Сумма чисел от 1 до 100: {hundred_sum}\")"
      ],
      "metadata": {
        "colab": {
          "base_uri": "https://localhost:8080/"
        },
        "id": "0GhIHGg8uNEN",
        "outputId": "9d0aebc2-2130-4e0e-9076-1e2230c2a9d2"
      },
      "execution_count": 24,
      "outputs": [
        {
          "output_type": "stream",
          "name": "stdout",
          "text": [
            "Сумма чисел от 1 до 100: 5050\n"
          ]
        }
      ]
    },
    {
      "cell_type": "markdown",
      "source": [
        "**Задача 3.2** Системы уравнений: Напишите программу, которая решает систему\n",
        "линейных уравнений с двумя переменными с использованием NumPy и без\n",
        "него(2 способа). (3 балла)"
      ],
      "metadata": {
        "id": "VXxYLeIVsbXt"
      }
    },
    {
      "cell_type": "code",
      "execution_count": 33,
      "metadata": {
        "colab": {
          "base_uri": "https://localhost:8080/"
        },
        "id": "JqQOxTLfvHrL",
        "outputId": "3686a5a1-aba9-482e-d653-99e2d336d46f"
      },
      "outputs": [
        {
          "output_type": "stream",
          "name": "stdout",
          "text": [
            "x = 2.0\n",
            "y = -1.0\n",
            "\n",
            "Решение без использования NumPy:\n",
            "x = 2.0\n",
            "y = -1.0\n"
          ]
        }
      ],
      "source": [
        "# 1й способ\n",
        "import numpy as np\n",
        "a = np.array([[1,1], [1,-1]])\n",
        "b = np.array([1,-3])\n",
        "answer = np.linalg.solve(a,b)\n",
        "print(f\"x = {answer[1]}\\ny = {answer[0]}\")\n",
        "\n",
        "# 2й способ\n",
        "def solve_eq(a1, b1, c1, a2, b2, c2):\n",
        "    x = (c1*b2 - c2*b1) / (a1*b2 - a2*b1)\n",
        "    y = (a1*c2 - a2*c1) / (a1*b2 - a2*b1)\n",
        "    return x, y\n",
        "\n",
        "x, y = solve_eq(1,1,1,-1,1,-3)\n",
        "print(\"\\nРешение без использования NumPy:\")\n",
        "print(\"x =\", x)\n",
        "print(\"y =\", y)"
      ]
    },
    {
      "cell_type": "markdown",
      "source": [
        "**Задача 3.8** Написать функцию, принимающую на вход переменную и создающую\n",
        "файл с именем этой переменной. (3 балла)"
      ],
      "metadata": {
        "id": "fQuGjOlirI4n"
      }
    },
    {
      "cell_type": "code",
      "source": [
        "def create_file(filename):\n",
        "    with open(filename, 'w') as file:\n",
        "        file.write(\"здесь что-то написано\")\n",
        "\n",
        "name = \"важная_информация.txt\"\n",
        "create_file(name)\n",
        "print(f\"Файл {name} был создан.\")"
      ],
      "metadata": {
        "colab": {
          "base_uri": "https://localhost:8080/"
        },
        "id": "LuVjYoEnsmrx",
        "outputId": "e48ed81d-039f-43ca-afc8-a0cf12cdb7ac"
      },
      "execution_count": 23,
      "outputs": [
        {
          "output_type": "stream",
          "name": "stdout",
          "text": [
            "Файл важная_информация.txt был создан.\n"
          ]
        }
      ]
    },
    {
      "cell_type": "markdown",
      "source": [
        "***Сумма баллов за задачи: 16***"
      ],
      "metadata": {
        "id": "ASKno-xibmwV"
      }
    }
  ]
}